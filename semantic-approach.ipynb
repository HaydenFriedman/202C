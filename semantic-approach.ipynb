{
 "cells": [
  {
   "cell_type": "code",
   "execution_count": 77,
   "metadata": {},
   "outputs": [],
   "source": [
    "import pronouncing\n",
    "import difflib"
   ]
  },
  {
   "cell_type": "code",
   "execution_count": null,
   "metadata": {},
   "outputs": [],
   "source": [
    "def get_phonetic(word):\n",
    "\tp = pronouncing.phones_for_word(word.lower())\n",
    "\treturn p[0] if p else None\n",
    "\n",
    "def phrase_phonetic(phrase):\n",
    "\tphonetics = []\n",
    "\tfor word in phrase.split():\n",
    "\t\tphonetic = get_phonetic(word)\n",
    "\t\tif phonetic:\n",
    "\t\t\tphonetics.append(phonetic)\n",
    "\treturn \" \".join(phonetics)\n",
    "\n",
    "def phonetic_similarity(p1, p2):\n",
    "\treturn difflib.SequenceMatcher(None, p1, p2).ratio()\n",
    "\n",
    "def get_similar_words(word, threshold=.6):\n",
    "\toriginal_phonetic = get_phonetic(word)\n",
    "\tif not original_phonetic:\n",
    "\t\treturn [word] # return just original if nothign\n",
    "\n",
    "\tcandidates = set()\n",
    "\t# find rhymes\n",
    "\tfor candidate in pronouncing.rhymes(word.lower()):\n",
    "\t\tcandidate_phonetic = get_phonetic(candidate)\n",
    "\t\tif candidate_phonetic:\n",
    "\t\t\tsimilarity = phonetic_similarity(None, original_phonetic, candidate_phonetic)\n",
    "\t\tif similarity >= threshold:\n",
    "\t\t\tcandidates.add(candidate)\n",
    "\n",
    "\tcandidates.add(word)\n",
    "\treturn list(candidates)\n",
    "\n",
    "def phoneme_to_words(phoneme_str, threshold=0.6, max_num=None):\n",
    "\t# phoneme string and convert it into the most similar words\n",
    "\tcandidates = set()\n",
    "\tfor word, candidate_phone in pronouncing.pronunciations:\n",
    "\t\tcandidate_phone = get_phonetic(word)\n",
    "\t\tif candidate_phone:\n",
    "\t\t\tsimilarity = difflib.SequenceMatcher(None, phoneme_str, candidate_phone).ratio()\n",
    "\t\t\tif similarity >= threshold:\n",
    "\t\t\t\tcandidates.add(word)\n",
    "\t\t\t\tif max_num is not None:\n",
    "\t\t\t\t\tif len(candidates) > max_num:\n",
    "\t\t\t\t\t\tbreak\n",
    "\n",
    "\n",
    "\treturn list(candidates)\n"
   ]
  },
  {
   "cell_type": "code",
   "execution_count": 78,
   "metadata": {},
   "outputs": [],
   "source": [
    "def beam_search_segment(phoneme_seq, beam_width=10, phonetic_weight=1.0, word_threshold=0.6):\n",
    "\t# Each beam is a tuple: (segmentation_so_far, current_index, combined_score)\n",
    "\tbeams = [(\"\", 0, 0)]\n",
    "\tcomplete_beams = []\n",
    "\n",
    "\tphoneme_seq_list = phoneme_seq.split(\" \")\n",
    "\t# Continue until there are no partial beams to extend.\n",
    "\twhile beams:\n",
    "\t\tnew_beams = []\n",
    "\t\tfor seg_str, index, score in beams:\n",
    "\t\t\tif index == len(phoneme_seq_list):\n",
    "\t\t\t\tcomplete_beams.append((seg_str, score))\n",
    "\t\t\t\tcontinue\n",
    "\n",
    "\t\t\t# Try every possible split from index+1 to the end.\n",
    "\t\t\tfor end in range(index + 1, len(phoneme_seq_list) + 1):\n",
    "\t\t\t\tcandidate_phoneme = \" \".join(phoneme_seq_list[index:end])\n",
    "\t\t\t\tcandidate_words = phoneme_to_words(candidate_phoneme, threshold=word_threshold)\n",
    "\t\t\t\tif candidate_words:\n",
    "\t\t\t\t\tfor word in candidate_words:\n",
    "\t\t\t\t\t\tnew_seg = (seg_str + \" \" + word).strip()\n",
    "\t\t\t\t\t\tcandidate_signature = phrase_phonetic(new_seg)\n",
    "\t\t\t\t\t\tph_score = phonetic_similarity(phoneme_seq, candidate_signature)\n",
    "\t\t\t\t\t\tcombined_score =  + phonetic_weight * ph_score\n",
    "\t\t\t\t\t\tnew_beams.append((new_seg, end, combined_score))\n",
    "\t\t# Prune to the top beams.\n",
    "\t\tnew_beams.sort(key=lambda x: x[2], reverse=True)\n",
    "\t\tbeams = new_beams[:beam_width]\n",
    "\n",
    "\t# Return the complete segmentations sorted by score.\n",
    "\tcomplete_beams.sort(key=lambda x: x[1], reverse=True)\n",
    "\treturn [seg for seg, score in complete_beams]\n"
   ]
  },
  {
   "cell_type": "code",
   "execution_count": 79,
   "metadata": {},
   "outputs": [],
   "source": [
    "phrase = \"hugh jass\"\n",
    "phoneme_seq = phrase_phonetic(phrase)\n",
    "out = beam_search_segment(phoneme_seq)\n"
   ]
  },
  {
   "cell_type": "code",
   "execution_count": 80,
   "metadata": {},
   "outputs": [
    {
     "data": {
      "text/plain": [
       "['hugest',\n",
       " 'hugus ass',\n",
       " \"hewitt's ass\",\n",
       " 'humus ass',\n",
       " 'hugus ass',\n",
       " \"hewitt's ass\",\n",
       " 'hugest s',\n",
       " 'hugest ess',\n",
       " 'umass',\n",
       " 'hugus ass sh',\n",
       " 'hugus ass shh',\n",
       " \"hewitt's ass sh\",\n",
       " \"hewitt's ass shh\",\n",
       " 'hugest ass sh',\n",
       " 'hugest ass shh']"
      ]
     },
     "execution_count": 80,
     "metadata": {},
     "output_type": "execute_result"
    }
   ],
   "source": [
    "out"
   ]
  },
  {
   "cell_type": "code",
   "execution_count": null,
   "metadata": {},
   "outputs": [],
   "source": []
  }
 ],
 "metadata": {
  "kernelspec": {
   "display_name": ".venv",
   "language": "python",
   "name": "python3"
  },
  "language_info": {
   "codemirror_mode": {
    "name": "ipython",
    "version": 3
   },
   "file_extension": ".py",
   "mimetype": "text/x-python",
   "name": "python",
   "nbconvert_exporter": "python",
   "pygments_lexer": "ipython3",
   "version": "3.10.16"
  }
 },
 "nbformat": 4,
 "nbformat_minor": 2
}
